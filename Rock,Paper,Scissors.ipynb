{
 "cells": [
  {
   "cell_type": "code",
   "execution_count": 2,
   "id": "582c2aba",
   "metadata": {},
   "outputs": [
    {
     "name": "stdout",
     "output_type": "stream",
     "text": [
      "Type Rock/Paper/Scissors or Q to quit: rock\n",
      "Computer picked paper.\n",
      "You lost!\n",
      "Type Rock/Paper/Scissors or Q to quit: paper\n",
      "Computer picked scissors.\n",
      "You lost!\n",
      "Type Rock/Paper/Scissors or Q to quit: paper\n",
      "Computer picked scissors.\n",
      "You lost!\n",
      "Type Rock/Paper/Scissors or Q to quit: paper\n",
      "Computer picked scissors.\n",
      "You lost!\n",
      "Type Rock/Paper/Scissors or Q to quit: paper\n",
      "Computer picked rock.\n",
      "You won!\n",
      "Type Rock/Paper/Scissors or Q to quit: paper\n",
      "Computer picked paper.\n",
      "Draw!\n",
      "Type Rock/Paper/Scissors or Q to quit: Q\n",
      "You won 1 times.\n",
      "The computer won 4 times.\n",
      "Goodbye!\n"
     ]
    }
   ],
   "source": [
    "import random\n",
    "\n",
    "user_wins = 0\n",
    "bot_wins = 0\n",
    "\n",
    "options = [\"rock\", \"paper\", \"scissors\"]\n",
    "\n",
    "while True:\n",
    "    user_input = input(\"Type Rock/Paper/Scissors or Q to quit: \").lower()\n",
    "    if user_input == \"q\":\n",
    "        break\n",
    "\n",
    "    if user_input not in options:\n",
    "        continue\n",
    "\n",
    "    random_number = random.randint(0, 2)\n",
    "    # rock: 0, paper: 1, scissors: 2\n",
    "    bot_pick = options[random_number]\n",
    "    print(\"Computer picked\", bot_pick + \".\")\n",
    "\n",
    "    if user_input == \"rock\" and bot_pick == \"scissors\":\n",
    "        print(\"You won!\")\n",
    "        user_wins += 1\n",
    "\n",
    "    elif user_input == \"paper\" and bot_pick == \"rock\":\n",
    "        print(\"You won!\")\n",
    "        user_wins += 1\n",
    "\n",
    "    elif user_input == \"scissors\" and bot_pick == \"paper\":\n",
    "        print(\"You won!\")\n",
    "        user_wins += 1\n",
    "    elif user_input == bot_pick: \n",
    "        print(\"Draw!\")         \n",
    "\n",
    "    else:\n",
    "        print(\"You lost!\")\n",
    "        bot_wins += 1\n",
    "\n",
    "print(\"You won\", user_wins, \"times.\")\n",
    "print(\"The computer won\", bot_wins, \"times.\")\n",
    "print(\"Goodbye!\")"
   ]
  },
  {
   "cell_type": "code",
   "execution_count": null,
   "id": "01e88827",
   "metadata": {},
   "outputs": [],
   "source": []
  }
 ],
 "metadata": {
  "kernelspec": {
   "display_name": "Python 3 (ipykernel)",
   "language": "python",
   "name": "python3"
  },
  "language_info": {
   "codemirror_mode": {
    "name": "ipython",
    "version": 3
   },
   "file_extension": ".py",
   "mimetype": "text/x-python",
   "name": "python",
   "nbconvert_exporter": "python",
   "pygments_lexer": "ipython3",
   "version": "3.9.12"
  }
 },
 "nbformat": 4,
 "nbformat_minor": 5
}
