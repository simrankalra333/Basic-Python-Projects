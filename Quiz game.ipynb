{
 "cells": [
  {
   "cell_type": "code",
   "execution_count": 1,
   "id": "51b32fa2",
   "metadata": {},
   "outputs": [
    {
     "name": "stdout",
     "output_type": "stream",
     "text": [
      "Welcome to my General Knowledge quiz!\n",
      "Do you want to play? YeS\n",
      "Okay! Let's play ^=^\n",
      "Which institution recently released the ‘Survey on dietary supplements’? FSSai\n",
      "Correct!\n",
      "Vidisha, the first district for deployment of innovative 5G use cases, is located in which state? Madhya pradesh\n",
      "Correct!\n",
      "Road Transport and Highways Ministry observes Road Safety Week in which month? JANUARY\n",
      "Correct!\n",
      "Who invented Computer? CHARLes Babbage\n",
      "Correct!\n",
      "Who's the real Kaleen Bhaiya? DEvansh GarG\n",
      "Correct!\n",
      "You got 5 questions correct!\n",
      "You got 100.0%.\n"
     ]
    }
   ],
   "source": [
    "print(\"Welcome to my General Knowledge quiz!\")\n",
    "\n",
    "playing = input(\"Do you want to play? \")\n",
    "\n",
    "if playing.lower() != \"yes\":\n",
    "    quit()\n",
    "\n",
    "print(\"Okay! Let's play ^=^\")\n",
    "score = 0\n",
    "\n",
    "answer = input(\"Which institution recently released the ‘Survey on dietary supplements’? \")\n",
    "if answer.lower() == \"fssai\":\n",
    "    print('Correct!')\n",
    "    score += 1\n",
    "else:\n",
    "    print(\"Incorrect!\")\n",
    "\n",
    "answer = input(\"Vidisha, the first district for deployment of innovative 5G use cases, is located in which state? \")\n",
    "if answer.lower() == \"madhya pradesh\":\n",
    "    print('Correct!')\n",
    "    score += 1\n",
    "else:\n",
    "    print(\"Incorrect!\")\n",
    "\n",
    "answer = input(\"Road Transport and Highways Ministry observes Road Safety Week in which month? \")\n",
    "if answer.lower() == \"january\":\n",
    "    print('Correct!')\n",
    "    score += 1\n",
    "else:\n",
    "    print(\"Incorrect!\")\n",
    "  \n",
    "answer = input(\"Who invented Computer? \")\n",
    "if answer.lower() == \"charles babbage\":\n",
    "    print('Correct!')\n",
    "    score += 1\n",
    "else:\n",
    "    print(\"Incorrect!\")\n",
    "    \n",
    "answer = input(\"Who's the real Kaleen Bhaiya? \")\n",
    "if answer.lower() == \"devansh garg\":\n",
    "    print('Correct!')\n",
    "    score += 1\n",
    "else:\n",
    "    print(\"Incorrect!\")\n",
    "\n",
    "print(\"You got \" + str(score) + \" questions correct!\")\n",
    "print(\"You got \" + str((score / 5) * 100) + \"%.\")"
   ]
  },
  {
   "cell_type": "code",
   "execution_count": null,
   "id": "4f9e1416",
   "metadata": {},
   "outputs": [],
   "source": []
  }
 ],
 "metadata": {
  "kernelspec": {
   "display_name": "Python 3 (ipykernel)",
   "language": "python",
   "name": "python3"
  },
  "language_info": {
   "codemirror_mode": {
    "name": "ipython",
    "version": 3
   },
   "file_extension": ".py",
   "mimetype": "text/x-python",
   "name": "python",
   "nbconvert_exporter": "python",
   "pygments_lexer": "ipython3",
   "version": "3.9.12"
  }
 },
 "nbformat": 4,
 "nbformat_minor": 5
}
